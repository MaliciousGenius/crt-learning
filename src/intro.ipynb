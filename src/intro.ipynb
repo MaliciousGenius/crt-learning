{
 "cells": [
  {
   "cell_type": "code",
   "execution_count": 1,
   "metadata": {},
   "outputs": [
    {
     "ename": "ModuleNotFoundError",
     "evalue": "No module named 'numpy'",
     "output_type": "error",
     "traceback": [
      "\u001b[0;31m---------------------------------------------------------------------------\u001b[0m",
      "\u001b[0;31mModuleNotFoundError\u001b[0m                       Traceback (most recent call last)",
      "\u001b[0;32m<ipython-input-1-e01accf3d5ab>\u001b[0m in \u001b[0;36m<module>\u001b[0;34m\u001b[0m\n\u001b[0;32m----> 1\u001b[0;31m \u001b[0;32mimport\u001b[0m \u001b[0mnumpy\u001b[0m \u001b[0;32mas\u001b[0m \u001b[0mnp\u001b[0m\u001b[0;34m\u001b[0m\u001b[0;34m\u001b[0m\u001b[0m\n\u001b[0m\u001b[1;32m      2\u001b[0m \u001b[0;34m\u001b[0m\u001b[0m\n\u001b[1;32m      3\u001b[0m \u001b[0mvodka\u001b[0m \u001b[0;34m=\u001b[0m \u001b[0;36m0.0\u001b[0m\u001b[0;34m\u001b[0m\u001b[0;34m\u001b[0m\u001b[0m\n\u001b[1;32m      4\u001b[0m \u001b[0mrain\u001b[0m \u001b[0;34m=\u001b[0m \u001b[0;36m1.0\u001b[0m\u001b[0;34m\u001b[0m\u001b[0;34m\u001b[0m\u001b[0m\n\u001b[1;32m      5\u001b[0m \u001b[0mfriend\u001b[0m \u001b[0;34m=\u001b[0m \u001b[0;36m0.0\u001b[0m\u001b[0;34m\u001b[0m\u001b[0;34m\u001b[0m\u001b[0m\n",
      "\u001b[0;31mModuleNotFoundError\u001b[0m: No module named 'numpy'"
     ]
    }
   ],
   "source": [
    "import numpy as np\n",
    "\n",
    "vodka = 0.0\n",
    "rain = 1.0\n",
    "friend = 0.0\n",
    "\n",
    "def activation_function(x):\n",
    "    if x >= 0.5:\n",
    "        return 1\n",
    "    else:\n",
    "        return 0\n",
    "\n",
    "def predict(vodka, rain, friend):\n",
    "    inputs = np.array([vodka, rain, friend])\n",
    "    weights_input_to_hiden_1 = [0.25, 0.25, 0]\n",
    "    weights_input_to_hiden_2 = [0.5, -0.4, 0.9]\n",
    "    weights_input_to_hiden = np.array([weights_input_to_hiden_1, weights_input_to_hiden_2])\n",
    "\n",
    "    weights_hiden_to_output = np.array([-1, 1])\n",
    "\n",
    "    hiden_input = np.dot(weights_input_to_hiden, inputs)\n",
    "    print(\"hiden_input: \" + str(hiden_input))\n",
    "\n",
    "    hiden_output = np.array([activation_function(x) for x in hiden_input])\n",
    "    print(\"hiden_output: \" + str(hiden_output))\n",
    "\n",
    "    output = np.dot(weights_hiden_to_output, hiden_output)\n",
    "    print(\"output: \" + str(output))\n",
    "    return activation_function(output) == 1\n",
    "    \n",
    "print(\"result: \" + str(predict(vodka, rain, friend)))"
   ]
  },
  {
   "cell_type": "code",
   "execution_count": null,
   "metadata": {
    "collapsed": true
   },
   "outputs": [],
   "source": []
  }
 ],
 "metadata": {
  "kernelspec": {
   "display_name": "Python 3.7.4 64-bit",
   "language": "python",
   "name": "python37464bit7de2f75547154e89bc9f31fc54966679"
  },
  "language_info": {
   "codemirror_mode": {
    "name": "ipython",
    "version": 3
   },
   "file_extension": ".py",
   "mimetype": "text/x-python",
   "name": "python",
   "nbconvert_exporter": "python",
   "pygments_lexer": "ipython3",
   "version": "3.7.4-final"
  }
 },
 "nbformat": 4,
 "nbformat_minor": 2
}